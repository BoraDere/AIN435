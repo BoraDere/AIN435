{
 "cells": [
  {
   "cell_type": "markdown",
   "metadata": {
    "id": "CM3whRHJ_Baf"
   },
   "source": [
    "## **BBM 444 - Programming Assignment 2: HDR Imaging and Tonemapping**\n",
    "\n",
    "* You can add as many cells as you want in-between each question, define any function and variable as needed. However, your code needs to be well-commented.  \n",
    "* Please add Markdown cells to answer the (non-coding) questions in the homework text.\n",
    "* Please be careful about the order of runs of cells. Doing the homework, it is likely that you will be running the cells in different orders, however, they will be evaluated in the order they appear. Hence, please try running the cells in this order before submission to make sure they work.    \n",
    "* Please refer to the homework text for any implementation detail. Though you are somewhat expected to abide by the comments in the below cells, they are mainly just provided for guidance and by no means are they complete and/or descriptive enough. Accordingly, as long as you are not completely off this structure and your work pattern is understandable and traceable, it is fine. For instance, you do not have to implement a particular function within a cell just because the comment directs you to do so. \n",
    "* **Required packages and functions:** numpy, skimage, matplotlib, and cv2 (OpenCV, to read and write HDR files), and you should use the functions provided in the ./ src/cp_assng2.py file of the assignment ZIP archive.\n",
    "* Working with the provided and captured exposure stacks, you will notice that your algorithms will be using a lot of memory. That's why you should be careful about how many of these images you create in your Python code, as otherwise you run the risk of filling up your memory. Further, you need to make sure you use vectorized code that processes all of its pixels in parallel, as trying to process all 25 million pixels one-by-one with a double for loop will take ages.\n",
    "* To be able to display HDR images, multiply your image with an appropriate scaling factor of your own (smaller than 1 if the image is very bright, larger than 1 otherwise), apply gamma encoding, and then use the clip and imshow functions as in Programming Assignment 1. You will likely need to experiment with a few different values for the scaling factor you apply, until you find the one that correctly exposes your image. Otherwise, it may appear very bright or very dark.\n",
    "* There will be a lot of reusing the same functionality, hence implementing the algorithms you are asked with functions (and making appropriate calls when necessary, rather than just code blocks ) is likely to be beneficial.\n",
    "* You can use the function readHDR in the code we provide to open\n",
    "and load the .HDR in Python, as otherwise to open HDR images, you'll need a dedicated viewer.\n",
    "* **This document is also your report. Show your work. Please articulate your arguments well and support them using relevant figures and images.**\n",
    "\n"
   ]
  },
  {
   "cell_type": "markdown",
   "metadata": {
    "id": "7McHUzxcdhHn"
   },
   "source": [
    "### Bora Dere, 2220765021"
   ]
  },
  {
   "cell_type": "markdown",
   "metadata": {
    "id": "F2s_G963_aW4"
   },
   "source": [
    "### 1. HDR Imaging (60 points)\n",
    "\n",
    "You are provided with both RAW (with .NEF extensions) and rendered (with .JPG extensions) images in the data folder, both of which are to be used to create HDR images."
   ]
  },
  {
   "cell_type": "markdown",
   "metadata": {
    "id": "Jgha6LQQElC1"
   },
   "source": [
    "#### 1.1. Develop RAW images (5 points)\n",
    "\n",
    "To convert RAW .NEF images into linear 16-bit .TIFF images, use dcraw and specify the camera's profile for white balancing, high-quality interpolation for demosaicing, and sRGB as the output color space. The correct set of flags for this conversion can be found in dcraw's documentation. Report them in the below cell."
   ]
  },
  {
   "cell_type": "markdown",
   "metadata": {
    "id": "KDsAuka1FXLu"
   },
   "source": [
    "##### Command for a single image is:\n",
    ">dcraw -w -q 3 -4 -T filename.NEF\n",
    "\n",
    "#### But to run it on all NEF images at once, I used a for loop in PS:\n",
    ">ls *.NEF | ForEach-Object { dcraw -w -q 3 -4 -T $_.FullName }\n"
   ]
  },
  {
   "cell_type": "markdown",
   "metadata": {
    "id": "1oQtnKXbKI4p"
   },
   "source": [
    "#### 1. 2. Weighting Schemes\n",
    "\n",
    "You are expected to implement 4 different weighting schemes, namely, uniform, tent, Gaussian, and photon. (All hold the assumption that the intensity values z $\\in$ [0,1]).\n",
    "\n",
    "\\\\begin{eqnarray}\n",
    "w_{\\text{uniform}} & = & \\left\\{\n",
    "        \\begin{array}{ll}\n",
    "            1, & \\;\\, \\text{if}\\;\\, Z_{\\text{min}}\\leq z \\leq Z_{\\text{max}}, \\\\\n",
    "            0, & \\;\\, \\text{otherwise}\n",
    "        \\end{array},\n",
    "    \\right.\\\\\\nonumber\n",
    "w_{\\text{tent}} & = & \\left\\{\n",
    "        \\begin{array}{ll}\n",
    "            \\text{min}(z,1-z), & \\;\\, \\text{if}\\;\\, Z_{\\text{min}}\\leq z \\leq Z_{\\text{max}}, \\\\\n",
    "            0, & \\;\\, \\text{otherwise}\n",
    "        \\end{array},\n",
    "    \\right. \\\\\\nonumber\n",
    "w_{\\text{Gaussian}} & = & \\left\\{\n",
    "        \\begin{array}{ll}\n",
    "            \\text{exp}\\left(-4\\frac{(z-0.5)^2}{0.5^2}\\right), & \\;\\, \\text{if}\\;\\, Z_{\\text{min}}\\leq z \\leq Z_{\\text{max}}, \\\\\n",
    "            0, & \\;\\, \\text{otherwise}\n",
    "        \\end{array},\n",
    "    \\right. \\\\\\nonumber\n",
    "w_{\\text{photon}} & = & \\left\\{\n",
    "        \\begin{array}{ll}\n",
    "            t^k, & \\;\\, \\text{if}\\;\\, Z_{\\text{min}}\\leq z \\leq Z_{\\text{max}}, \\\\\n",
    "            0, & \\;\\, \\text{otherwise}\n",
    "        \\end{array},\n",
    "    \\right.\n",
    "\\end{eqnarray} \n",
    "\n",
    "Though the recommended values for $Z_{\\text{max}}$ and $Z_{\\text{min}}$ are 0.05 and 0.95 respectively, you can experiment with different clipping values. \n",
    "\n",
    "\n",
    " "
   ]
  },
  {
   "cell_type": "code",
   "execution_count": 31,
   "metadata": {},
   "outputs": [],
   "source": [
    "import numpy as np\n",
    "from matplotlib import pyplot as plt\n",
    "import os\n",
    "import glob\n",
    "import cv2"
   ]
  },
  {
   "cell_type": "code",
   "execution_count": 32,
   "metadata": {},
   "outputs": [],
   "source": [
    "K_VALUES = [19, 20, 21, 22, 23, 24, 25, 26, 27]\n",
    "T_VALUES = [(2**(2*k - 42))/640 for k in K_VALUES]\n",
    "\n",
    "DATA_PATH = os.path.join(os.getcwd(), 'data', 'Lab Booth')\n",
    "\n",
    "JPGs = glob.glob(os.path.join(DATA_PATH, '*.jpg'))\n",
    "JPGs.sort()\n",
    "\n",
    "TIFFs = glob.glob(os.path.join(DATA_PATH, '*.tiff'))\n",
    "TIFFs.sort()"
   ]
  },
  {
   "cell_type": "code",
   "execution_count": 33,
   "metadata": {
    "id": "6GChYYV1usDq"
   },
   "outputs": [],
   "source": [
    "## Implement (possibly) functions or a class for these weighting schemes\n",
    "def weight_uniform(z, z_min=0.05, z_max=0.95):\n",
    "    \"\"\"Uniform weighting scheme\"\"\"\n",
    "    return np.logical_and(z >= z_min, z <= z_max).astype(float)\n",
    "\n",
    "def weight_tent(z, z_min=0.05, z_max=0.95):\n",
    "    \"\"\"Tent weighting scheme\"\"\"\n",
    "    w = np.minimum(z, 1-z)\n",
    "    return w * np.logical_and(z >= z_min, z <= z_max).astype(float)\n",
    "\n",
    "def weight_gaussian(z, z_min=0.05, z_max=0.95):\n",
    "    \"\"\"Gaussian weighting scheme\"\"\"\n",
    "    w = np.exp(-4 * ((z - 0.5)**2) / (0.5**2))\n",
    "    return w * np.logical_and(z >= z_min, z <= z_max).astype(float)\n",
    "\n",
    "def weight_photon(z, t, k=1, z_min=0.05, z_max=0.95):\n",
    "    \"\"\"Photon weighting scheme with parameter k\"\"\"\n",
    "    w = t**k\n",
    "    return w * np.logical_and(z >= z_min, z <= z_max).astype(float)"
   ]
  },
  {
   "cell_type": "markdown",
   "metadata": {
    "id": "smGh8isZFqj0"
   },
   "source": [
    "#### 1.3. Linearize rendered images (25 points)\n",
    "\n",
    "Rendered images, being non-linear, need to be linearized before merging into HDR images. For this, we'll use the method by Debevec and Malik [1]. Please refer to the homework text and the paper for any implementation detail.\n",
    "\n",
    "$I^k_{ij}: $ intensity of pixel (i, j) of the $k^{th}$ image and $I^k_{ij} = f(t^kL_{ij}) $, where $I^k_{ij} \\in \\{ 0, ..., 255 \\}$ and $t^k$ the exposure time of image k. f is the non-linearity introduced by the camera's ISP. That is, calculating its inverse, $f^{-1}$, one can get the linear response.\n",
    "\n",
    "Instead of $f^{-1}$, recover the function $g =\\text{log}(f^{-1})$ that maps the pixel values $I^k_{ij}$ to $g(I^k_{ij})=\\text{log}(L_{ij})+\\text{log}(t^k)$. **Notice domain of g is discrete** an takes on values in the range $\\{ 0, ..., 255 \\}$. Hence, the second derivative of g can be approximated via a Laplacian filter.\n",
    "\n",
    "Assuming static scene upon capturing, $L_{ij}$ is constant across all LDR images. That is, to recover g, the least-squares optimization problem in the hw text needs to be solved. \n",
    "\n",
    "*Hint: Solve problem by expressing it in matrix form: $||Av -b ||^2$, where A is a matrix and $\\mathbf{v} = [g; \\text{log} (L_{ij} )]$ are the unknowns. Use one of NumPy’s solvers to recover the unknowns. (See numpy function numpy.linalg.lstsq)* \n",
    "\n",
    "Though, Debevec and Malik [1] recovers a g for each color channel, recovering a single g for all channels suffices for this homework.\n",
    "\n",
    "Plot the function g you recovered and use it to convert non-linear images into linear.\n",
    "\n",
    "**Solving the linear equation, unless downsampled, processing the whole image will cause memory error, ie, you will run out of memory. That's why you need to downsample the image I with I[::N, ::N], for some N . We recommend using N = 200. In general it is advisable to use downscaled images during the debugging process of your code to speed up the development process. After ensuring the correctness of the code, the final results can be obtained by running it on the full-resolution image.**\n"
   ]
  },
  {
   "cell_type": "code",
   "execution_count": null,
   "metadata": {},
   "outputs": [],
   "source": [
    "def recover_g(Z, t, w, lambda_, sampling_factor=200, is_photon_weight=False):\n",
    "    \"\"\"\n",
    "    Function to recover the camera response function g\n",
    "    \n",
    "    :param Z: LDR images stacked as a 3D array (num_images x height x width x channels)\n",
    "    :param t: Exposure times for each image\n",
    "    :param w: Weight function \n",
    "    :param lambda\\_: Regularization parameter\n",
    "    :param sampling_factor: Stride for pixel sampling (default: 200)\n",
    "    :param is_photon_weight: Boolean to indicate if photon weighting is used\n",
    "    \n",
    "    :return g: Camera response function for all channels\n",
    "    \"\"\"\n",
    "    n_images, height, width, n_channels = Z.shape\n",
    "    n = 256 \n",
    "    \n",
    "    # sampling\n",
    "    y_indices = np.arange(0, height, sampling_factor)\n",
    "    x_indices = np.arange(0, width, sampling_factor)\n",
    "    Y, X = np.meshgrid(y_indices, x_indices)\n",
    "    \n",
    "    y_sampled = Y.flatten()\n",
    "    x_sampled = X.flatten()\n",
    "    \n",
    "    P = len(y_sampled)\n",
    "    \n",
    "    pixels = np.zeros((n_images, P, n_channels), dtype=Z.dtype)\n",
    "    for i in range(n_images):\n",
    "        pixels[i] = Z[i, y_sampled, x_sampled]\n",
    "    \n",
    "    # total number of equations and unknowns\n",
    "    data_equations = P * n_images * n_channels  # data term \n",
    "    smoothness_equations = (n-2)                # regularization term x (one g function)\n",
    "    constraint_equations = 1                    # fix middle value x (one g function)\n",
    "    \n",
    "    total_equations = data_equations + smoothness_equations + constraint_equations\n",
    "    total_unknowns = n + P * n_channels  \n",
    "    \n",
    "    A = np.zeros((total_equations, total_unknowns))\n",
    "    b = np.zeros(total_equations)\n",
    "    \n",
    "    # fill in the data fitting equations\n",
    "    eq_idx = 0\n",
    "    for i in range(P):\n",
    "        for j in range(n_images):\n",
    "            for c in range(n_channels):\n",
    "                z = pixels[j, i, c]\n",
    "                wij = w[z]\n",
    "                \n",
    "                A[eq_idx, z] = wij\n",
    "                A[eq_idx, n + c*P + i] = -wij\n",
    "                \n",
    "                # right-hand side\n",
    "                b[eq_idx] = wij * np.log(t[j])\n",
    "                \n",
    "                eq_idx += 1\n",
    "    \n",
    "    # smoothness constraints \n",
    "    for z in range(1, n-1):\n",
    "        if is_photon_weight:\n",
    "            wz = 1.0  # constant weight for regularization with photon weights\n",
    "        else:\n",
    "            wz = w[z]  \n",
    "        \n",
    "        A[eq_idx, z-1] = lambda_ * wz\n",
    "        A[eq_idx, z] = -2 * lambda_ * wz\n",
    "        A[eq_idx, z+1] = lambda_ * wz\n",
    "        \n",
    "        # right-hand side is 0\n",
    "        b[eq_idx] = 0\n",
    "        \n",
    "        eq_idx += 1\n",
    "    \n",
    "    # fix the curve by setting the middle value to 0\n",
    "    mid_point = n // 2\n",
    "    A[eq_idx, mid_point] = 1\n",
    "    b[eq_idx] = 0\n",
    "    \n",
    "    x, residuals, rank, s = np.linalg.lstsq(A, b, rcond=None)\n",
    "    \n",
    "    g = x[:n]  \n",
    "    # lE = x[n:].reshape(n_channels, P)  # Log irradiance for each channel and pixel\n",
    "    \n",
    "    return g #, lE"
   ]
  },
  {
   "cell_type": "code",
   "execution_count": 35,
   "metadata": {},
   "outputs": [],
   "source": [
    "## Implement (possibly) a function to conevert non-linear images into linear ones (given the recovered g)\n",
    "## I = exp(g(I)), where I is the intensity of a pixel\n",
    "def linearize_images(images, g):\n",
    "    \"\"\"\n",
    "    Function to apply the response function g to linearize the LDR images\n",
    "    \n",
    "    :param images: LDR images \n",
    "    :param g: Camera response function \n",
    "    \n",
    "    :return: linearized: Linearized images\n",
    "    \"\"\"\n",
    "    n_images, height, width, n_channels = images.shape\n",
    "    linearized = np.zeros_like(images, dtype=float)\n",
    "    \n",
    "    for i in range(n_images):\n",
    "        for c in range(n_channels):\n",
    "            linearized[i, :, :, c] = np.exp(g[c, images[i, :, :, c]])\n",
    "    \n",
    "    return linearized"
   ]
  },
  {
   "cell_type": "code",
   "execution_count": 36,
   "metadata": {
    "id": "4xd7nOsnv3Zk"
   },
   "outputs": [],
   "source": [
    "# loading images\n",
    "images = []\n",
    "for jpg_path in JPGs:\n",
    "    img = cv2.imread(jpg_path)\n",
    "    if img is not None:\n",
    "        img = cv2.cvtColor(img, cv2.COLOR_BGR2RGB)\n",
    "        images.append(img)\n",
    "\n",
    "Z = np.array(images)"
   ]
  },
  {
   "cell_type": "code",
   "execution_count": 54,
   "metadata": {},
   "outputs": [],
   "source": [
    "w_uniform = np.zeros(256)\n",
    "w_tent = np.zeros(256)\n",
    "w_gaussian = np.zeros(256)\n",
    "w_photon_tables = []\n",
    "\n",
    "for z in range(256):\n",
    "    z_norm = z / 255.0  # normalize to [0, 1]\n",
    "    w_uniform[z] = weight_uniform(z_norm)\n",
    "    w_tent[z] = weight_tent(z_norm)\n",
    "    w_gaussian[z] = weight_gaussian(z_norm)\n",
    "\n",
    "for exposure_time in T_VALUES:\n",
    "    w_photon_current = np.zeros(256)\n",
    "    for z in range(256):\n",
    "        z_norm = z / 255.0\n",
    "        w_photon_current[z] = weight_photon(z_norm, exposure_time)\n",
    "    w_photon_tables.append(w_photon_current)"
   ]
  },
  {
   "cell_type": "code",
   "execution_count": null,
   "metadata": {},
   "outputs": [
    {
     "data": {
      "image/png": "[encoded data removed]",
      "text/plain": [
       "<Figure size 1000x1000 with 1 Axes>"
      ]
     },
     "metadata": {},
     "output_type": "display_data"
    }
   ],
   "source": [
    "#TODO: create all g functions\n",
    "t = np.array(T_VALUES)\n",
    "lambda_ = 100  \n",
    "\n",
    "g = recover_g(Z, t, w, lambda_, sampling_factor=200)\n",
    "\n",
    "plt.figure(figsize=(10, 10))\n",
    "y = np.arange(256)\n",
    "\n",
    "plt.plot(g, y, color='black')\n",
    "    \n",
    "plt.xlabel('log Exposure')\n",
    "plt.ylabel('Pixel Value')\n",
    "plt.title('Camera Response Function')\n",
    "plt.grid(True)\n",
    "plt.show()"
   ]
  },
  {
   "cell_type": "code",
   "execution_count": 39,
   "metadata": {},
   "outputs": [],
   "source": [
    "# LINEARIZING IMAGES"
   ]
  },
  {
   "cell_type": "markdown",
   "metadata": {
    "id": "oqpFOhrwv4g9"
   },
   "source": [
    "#### 1.4. Merge exposure stack into HDR image (30 points)\n",
    "Given a set of k LDR linear images corresponding to different exposures $t^k$, we can merge them into an HDR image either in the linear or in the logarithmic domain, where the motivation for the former is physical accuracy, whereas, that for the latter is human visual perception.\n",
    "\n",
    "Please see the homework text for both algorithms. \n",
    "\n",
    "**Merging multiple LDR images, some pixels may not have well-exposed values, which makes the sum of weights in the equations' denominators zero. For over-exposed pixels, assign the maximum valid pixel value, and for under-exposed pixels, assign the minimum valid pixel value.**"
   ]
  },
  {
   "cell_type": "code",
   "execution_count": 40,
   "metadata": {
    "id": "vfHCTLZYwjeO"
   },
   "outputs": [],
   "source": [
    "## Implement a function for linear merging"
   ]
  },
  {
   "cell_type": "code",
   "execution_count": 41,
   "metadata": {
    "id": "kTTv5dXCwjcf"
   },
   "outputs": [],
   "source": [
    "## Implement a function for logarithmic merging"
   ]
  },
  {
   "cell_type": "markdown",
   "metadata": {
    "id": "_w6EYdzAenGM"
   },
   "source": [
    "#### 1.4. Experiment\n",
    "\n",
    "You have 2 sets of images (RAW and rendered), 2 merging schemes (linear and logarithmic), and 4 weighting schemes (uniform, tent, Gaussian, and photon-noise optimal), which, in total, makes 16 different HDR images. Additionally, you will need to tune the regularizer hyperparameter $\\lambda$.  \n",
    "\n",
    "Select one out of the sixteen HDR images you created. You can select, for\n",
    "example, the one that you find the most aesthetically pleasing. Make sure to comment on why you selected the image. Note that, as you have not yet tonemapped your HDR images, if you display them directly they will not look very nice; see “Hints and Information”."
   ]
  },
  {
   "cell_type": "code",
   "execution_count": 42,
   "metadata": {
    "id": "u66IwD1_pAVU"
   },
   "outputs": [],
   "source": [
    "## Experiment. Show your work!"
   ]
  },
  {
   "cell_type": "code",
   "execution_count": 43,
   "metadata": {
    "id": "UrYePwj0qwd1"
   },
   "outputs": [],
   "source": [
    "## Plot g"
   ]
  },
  {
   "cell_type": "markdown",
   "metadata": {
    "id": "_kkqWtjNvfo8"
   },
   "source": [
    "#### *Choose one of the HDR images you have created, commenting on the reason for your choice.*"
   ]
  },
  {
   "cell_type": "code",
   "execution_count": null,
   "metadata": {
    "id": "IRddaevXyAmi"
   },
   "outputs": [],
   "source": []
  },
  {
   "cell_type": "markdown",
   "metadata": {
    "id": "TyFwhD_ix9Ne"
   },
   "source": [
    "*Store the resulting HDR images as \\texttt{.HDR} files, which is an open source high dynamic range file format. (See the provided function **`writeHDR`**  ./src/cp\\_assgn2.py)*"
   ]
  },
  {
   "cell_type": "code",
   "execution_count": null,
   "metadata": {
    "id": "VlV5O34kx7z3"
   },
   "outputs": [],
   "source": []
  },
  {
   "cell_type": "markdown",
   "metadata": {
    "id": "tN_ttJ2yGZ9h"
   },
   "source": [
    "## 2. Color correction and white balancing (20 points)\n",
    "\n",
    "For this part, you are expected to use the **read_colorchecker_gm()** function provided in **./src/cp_assgn2.py**., which **returns a 4x6 matrix with sRGB linear values of the Greatg-Macbeth color checker.** \n",
    "\n",
    "\n",
    "\n",
    "1. For each color checker patch, crop a square that is fully contained within the patch. (See mat-plotlib function matplotlib.pyplot.ginput for interactively recording image coordinates). Make sure to store the coordinates of these cropped squares, so that you can re-use them. Use the resulting 24 crops to compute average RGB coordinates for each of the color checker’s 24 patches\n",
    "2. Convert these computed RGB coordinates into homogeneous 4 × 1 coordinates, by appending a 1 as their fourth coordinate.\n",
    "3. Solve a least-squares problem to compute an affine transformation, mapping the measured to the ground-truth  homogeneous coordinates.\n",
    "4. Apply the computed affine transform to your original RGB HDR image. Note that the\n",
    "transformed image may have some negative values, which you should clip to 0.\n",
    "5. Finally, apply an additional white balancing transform (i.e., multiply each channel with a scalar), so that the RGB coordinates of patch 4 are equal to each other. This is analogous to the manual white balancing in Programming Assignment 1, where now we use patch 4 as the white object in the scene.\n",
    "\n",
    "Store the color corrected and white balanced HDR image in an .HDR file. You should now have two HDR images total: The one from Part 1 that has not been color-corrected, and the one you just created. Compare the color-corrected image with the original, and discuss which one you like the best.\n"
   ]
  },
  {
   "cell_type": "code",
   "execution_count": 44,
   "metadata": {
    "id": "aKCUCCD6sULM"
   },
   "outputs": [],
   "source": [
    "# for each color patch: get 24 crops"
   ]
  },
  {
   "cell_type": "code",
   "execution_count": 45,
   "metadata": {
    "id": "3BErFZqssfNM"
   },
   "outputs": [],
   "source": [
    "# compute average RGB coordinates for each of the color checker’s 24 patches and convert them to 4x1 coords by adding a 1"
   ]
  },
  {
   "cell_type": "code",
   "execution_count": 46,
   "metadata": {
    "id": "RZnlNW-isk2i"
   },
   "outputs": [],
   "source": [
    "# compute an affine transformation"
   ]
  },
  {
   "cell_type": "code",
   "execution_count": 47,
   "metadata": {
    "id": "nxmA_5kRsvtb"
   },
   "outputs": [],
   "source": [
    "# Apply the computed affine transform to your original RGB HDR image"
   ]
  },
  {
   "cell_type": "code",
   "execution_count": 48,
   "metadata": {
    "id": "AXQvQa0ysynX"
   },
   "outputs": [],
   "source": [
    "# Apply white balancing"
   ]
  },
  {
   "cell_type": "code",
   "execution_count": 49,
   "metadata": {
    "id": "WPS-KbWAs3MY"
   },
   "outputs": [],
   "source": [
    "# Store the color corrected HDR image"
   ]
  },
  {
   "cell_type": "markdown",
   "metadata": {
    "id": "EKdIZ53-tGMT"
   },
   "source": [
    "##### *Compare the color-corrected and the original image here, discussing which one you like better.*"
   ]
  },
  {
   "cell_type": "code",
   "execution_count": null,
   "metadata": {
    "id": "tApftMFvv4Hl"
   },
   "outputs": [],
   "source": []
  },
  {
   "cell_type": "markdown",
   "metadata": {
    "id": "WupgicoMtd35"
   },
   "source": [
    "### 3. Photographic tonemapping (20 points)\n",
    "\n",
    "You need to tonemap the HDR image you like better at the end of the last part for displaying purposes.\n",
    "You will implement the tonemapping operator proposed by Reinhard et al. [2].\n",
    "For implementation details, refer to the homework text and the paper.\n",
    "\n",
    "*You may get better results by using the same scalars for all three channels. You can do this by using pixels from all three channels in the equations.*\n",
    "\n",
    "$I_{white} = B. max_{i,j}(I_{ij,HDR})$,\n",
    "\n",
    "$I_{i,j,HDR} = \\frac{K}{I_{m,HDR}}$\n",
    "\n",
    "$I_{m,HDR} = exp(1/N∑_{i,j}log(I_{ij,HDR} + ϵ))$ **Equation (10)**\n",
    "\n",
    "The parameter K is the key, and determines how bright or dark the resulting tonemapped rendition is. The parameter B is the burn, and can be used to  suppress the contrast of the result. Finally, N is the number of pixels, and ε is a small constant to avoid the singularity of the logarithm function at 0. \n",
    "\n",
    "**Even with tonemapping, your images may appear too dark. After tonemapping, you need to apply gamma encoding for images to be displayed correctly.**\n"
   ]
  },
  {
   "cell_type": "code",
   "execution_count": null,
   "metadata": {
    "id": "xYQQmvmJtUOt"
   },
   "outputs": [],
   "source": []
  },
  {
   "cell_type": "code",
   "execution_count": null,
   "metadata": {
    "id": "l7xsVmilv4nS"
   },
   "outputs": [],
   "source": []
  },
  {
   "cell_type": "markdown",
   "metadata": {
    "id": "cDarnHvUv5a7"
   },
   "source": [
    "### 4. (Bonus)  Create and tonemap your own HDR photos (50 points)\n",
    "\n",
    "* Apply your implementation on a photograph you have taken. For this, you need to choose a scene with high dynamic range. See the hints section in the homework text for the camera settings.\n",
    "* Once you select the scene, capture exposure stacks in RAW and JPEG formats. We suggest using exposures that are equally spaced in the logarithmic domain. For example, start with some very low base exposure, and then use exposures that are 2× the base, 4×, 8×, and so on.\n",
    "* Use the exposure stacks you captured to create two HDR images, one from the RAW and one from the JPEG images. Store these images in .HDR format. You do not need color calibration. \n",
    "*Then, process these images using the tonemapping algorithms you implemented in Part 3 (photographic, in RGB or luminance-only). Experiment with different parameters, show a few representative tonemaps, discuss your results, and determine which result you like the most."
   ]
  },
  {
   "cell_type": "code",
   "execution_count": 50,
   "metadata": {
    "id": "QSXyrydrAMSV"
   },
   "outputs": [],
   "source": [
    "## Load your images "
   ]
  },
  {
   "cell_type": "code",
   "execution_count": 51,
   "metadata": {
    "id": "j428FxccARwb"
   },
   "outputs": [],
   "source": [
    "## Create two HDR images (one from RAW and one from JPEG imgs) using the above implemented algorithms"
   ]
  },
  {
   "cell_type": "code",
   "execution_count": 52,
   "metadata": {
    "id": "9JNSPSPDArbU"
   },
   "outputs": [],
   "source": [
    "## Tonemap the images with the above-implemented algorithms (in Part 3). Experiment with different parameters. Show some tonemaps"
   ]
  },
  {
   "cell_type": "markdown",
   "metadata": {
    "id": "GunMNPRhBAXv"
   },
   "source": [
    "##### *Discuss the above-generated images, commenting on which one you like the best.*"
   ]
  },
  {
   "cell_type": "markdown",
   "metadata": {
    "id": "AdZiia7DGPM8"
   },
   "source": [
    "### **REFERENCES**\n",
    "[1] P. E. Debevec and J. Malik. Recovering high dynamic range radiance maps from photographs.\n",
    "In Proceedings of the 24th Annual Conference on Computer Graphics and Interactive Techniques,\n",
    "SIGGRAPH ’97, pages 369–378, New York, NY, USA, 1997. ACM Press/Addison-Wesley Publishing\n",
    "Co.\n",
    "\n",
    "[2] E. Reinhard, M. Stark, P. Shirley, and J. Ferwerda. Photographic tone reproduction for digital\n",
    "images. In Proceedings of the 29th Annual Conference on Computer Graphics and Interactive\n",
    "Techniques, SIGGRAPH ’02, pages 267–276, New York, NY, USA, 2002. ACM.\n"
   ]
  }
 ],
 "metadata": {
  "colab": {
   "provenance": []
  },
  "kernelspec": {
   "display_name": "Python 3",
   "name": "python3"
  },
  "language_info": {
   "codemirror_mode": {
    "name": "ipython",
    "version": 3
   },
   "file_extension": ".py",
   "mimetype": "text/x-python",
   "name": "python",
   "nbconvert_exporter": "python",
   "pygments_lexer": "ipython3",
   "version": "3.10.0"
  }
 },
 "nbformat": 4,
 "nbformat_minor": 0
}
